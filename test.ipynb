{
 "cells": [
  {
   "cell_type": "code",
   "execution_count": 5,
   "metadata": {},
   "outputs": [],
   "source": [
    "# test if we can use the Python object\n",
    "\n",
    "import pickle\n",
    "import re\n",
    "import os\n",
    "from vectorizer import vect\n",
    "clf = pickle.load(open(os.path.join('pkl_objects','classifier.pkl'),'rb'))"
   ]
  },
  {
   "cell_type": "code",
   "execution_count": 12,
   "metadata": {},
   "outputs": [
    {
     "name": "stdout",
     "output_type": "stream",
     "text": [
      "Prediction:positive\n",
      "Probability:85.58%\n"
     ]
    }
   ],
   "source": [
    "import numpy as np\n",
    "label = {0:'negative',1:'positive'}\n",
    "example = ['I love this movie']\n",
    "X = vect.transform(example)\n",
    "print('Prediction:%s\\nProbability:%.2f%%' %\\\n",
    "     (label[clf.predict(X)[0]], np.max(clf.predict_proba(X)*100)))"
   ]
  },
  {
   "cell_type": "markdown",
   "metadata": {},
   "source": [
    "### 设置SQLite 数据库用来数据存储\n",
    "在这里，可以用数据库收集用户在网络应用中预测的反馈。可以用这个反馈来升级我们的分类模型。  \n",
    "在movieclassifier目录下面创建两个movie的评论：  \n",
    "火狐自带SQlite https://addons.mozilla.org/en-US/firefox/addon/sqlite-manager/"
   ]
  },
  {
   "cell_type": "code",
   "execution_count": 20,
   "metadata": {},
   "outputs": [],
   "source": [
    "import sqlite3\n",
    "import os\n",
    "conn = sqlite3.connect('reviews.sqlite')\n",
    "c = conn.cursor()\n",
    "c.execute('CREATE TABLE review_db'\\\n",
    "         '(review TEXT, sentiment INTEGER, date TEXT)')\n",
    "example1 = 'I love this movie'\n",
    "c.execute(\"INSERT INTO review_db\\\n",
    "         (review,sentiment,date) VALUES\\\n",
    "         (?,?,DATETIME('now'))\",(example1,1))\n",
    "example2 = 'I disliked this movie'\n",
    "c.execute(\"INSERT INTO review_db\\\n",
    "         (review, sentiment, date) VALUES\\\n",
    "         (?,?,DATETIME('now'))\",(example2,0))\n",
    "conn.commit()\n",
    "conn.close()"
   ]
  },
  {
   "cell_type": "code",
   "execution_count": 21,
   "metadata": {},
   "outputs": [
    {
     "name": "stdout",
     "output_type": "stream",
     "text": [
      "[('I love this movie', 1, '2018-04-09 03:40:00'), ('I disliked this movie', 0, '2018-04-09 03:40:00')]\n"
     ]
    }
   ],
   "source": [
    "conn = sqlite3.connect('reviews.sqlite')\n",
    "c = conn.cursor()\n",
    "c.execute(\"SELECT * FROM review_db WHERE date\\\n",
    "         BETWEEN '2015-01-01 00:00:00' AND DATETIME('now')\")\n",
    "results = c.fetchall()\n",
    "conn.close()\n",
    "print(results)"
   ]
  },
  {
   "cell_type": "markdown",
   "metadata": {},
   "source": [
    "### 通过Flask来创建一个web application\n",
    "Flask是由Python写的， 是microframework,它的内核是精简简单的（kept lean and simple)，但是很容易和其他库一起扩展。  \n",
    "Python其他的web frameworks Django  \n",
    "1st_flask_app_1/  \n",
    "app.py  \n",
    "templates/  \n",
    "first_app.html  "
   ]
  },
  {
   "cell_type": "code",
   "execution_count": null,
   "metadata": {},
   "outputs": [],
   "source": [
    "# app.py\n",
    "from flask import Flask,render_template\n",
    "app = Flask(__name__)\n",
    "\n",
    "@app.route('/') # route decorator来表明特定的URL会触发index 函数的执行\n",
    "def index():\n",
    "    return render_template('first_app.html')\n",
    "\n",
    "if __name__ == '__main__':\n",
    "    app.run()"
   ]
  },
  {
   "cell_type": "code",
   "execution_count": 1,
   "metadata": {},
   "outputs": [
    {
     "ename": "SyntaxError",
     "evalue": "invalid syntax (<ipython-input-1-983dbe3c3a91>, line 2)",
     "output_type": "error",
     "traceback": [
      "\u001b[0;36m  File \u001b[0;32m\"<ipython-input-1-983dbe3c3a91>\"\u001b[0;36m, line \u001b[0;32m2\u001b[0m\n\u001b[0;31m    <!doctype html>\u001b[0m\n\u001b[0m    ^\u001b[0m\n\u001b[0;31mSyntaxError\u001b[0m\u001b[0;31m:\u001b[0m invalid syntax\n"
     ]
    }
   ],
   "source": [
    "# first_app.html\n",
    "<!doctype html>\n",
    "<html>\n",
    "    <head>\n",
    "        <title>First app</title>\n",
    "    </head>\n",
    "    <body>\n",
    "        <div>Hi, this is my first Flask web app!</div>\n",
    "    </body>\n",
    "</html>"
   ]
  },
  {
   "cell_type": "markdown",
   "metadata": {},
   "source": [
    "###  Form validation and rendering 表格验证和展示\n",
    "利用WTForms库来收集用户的数据"
   ]
  },
  {
   "cell_type": "code",
   "execution_count": null,
   "metadata": {},
   "outputs": [],
   "source": [
    "from flask import Flask, render_template, request\n",
    "from wtforms import Form, TextAreaField, validators\n",
    "app = Flask(__name__)\n",
    "\n",
    "class HelloForm(Form):\n",
    "    sayhello = TextAreaField('', [validators.DataRequired()])\n",
    "    \n",
    "@app.route('/')\n",
    "def index():\n",
    "    form = HelloForm(request.form)\n",
    "    return render_template('first_app.html', form=form)\n",
    "\n",
    "@app.route('/hello', methods=['POST'])\n",
    "def hello():\n",
    "    form = HelloForm(request.form)\n",
    "    if request.method == 'POST' and form.validate():\n",
    "        name = request.form['sayhello']\n",
    "        return render_template('hello.html',name=name)\n",
    "    return render_template('first_app.html',form=form)\n",
    "\n",
    "if __name__ == \"__main__\":\n",
    "    app.run(debug=True)"
   ]
  },
  {
   "cell_type": "code",
   "execution_count": null,
   "metadata": {},
   "outputs": [],
   "source": [
    "# Jinjia2  _formhelpers.html\n",
    "{% macro render_field(field) %}\n",
    "    <dt>{{ field.label }}\n",
    "    <dd>{{ field(**kwargs)|safe }}\n",
    "    {% if field.errors %}\n",
    "        <ul class=errors>\n",
    "        {% for error in field.errors %}\n",
    "            <li>{{ error }}</li>\n",
    "        {% endfor %}\n",
    "        </ul>\n",
    "    {% endif %}\n",
    "    </dd>\n",
    "{% endmacro %}"
   ]
  },
  {
   "cell_type": "code",
   "execution_count": null,
   "metadata": {},
   "outputs": [],
   "source": [
    "# cascading Style Sheets (css) style.css 改变HTML的body元素\n",
    "\n",
    "body{\n",
    "    font-size: 2em;\n",
    "}\n"
   ]
  },
  {
   "cell_type": "code",
   "execution_count": null,
   "metadata": {},
   "outputs": [],
   "source": [
    "# first_app.html\n",
    "\n",
    "<!doctype html>\n",
    "<html>\n",
    "    <head>\n",
    "        <title>First app</title>\n",
    "    <link rel=\"stylesheet\" href=\"{{ url_for('static',filename='style.css') }}\">\n",
    "    </head>\n",
    "    <body>\n",
    "    \n",
    "{% from \"_formhelpers.html\" import render_field %}\n",
    "\n",
    "<div>What's your name?</div>\n",
    "<form method=post action=\"/hello\">\n",
    "    <dl>\n",
    "        {{ render_field(form.sayhello) }}\n",
    "    </dl>\n",
    "    <input type=submit value='Say Hello' name='submit_btn'>\n",
    "</form>\n",
    "    </body>\n",
    "</html>"
   ]
  },
  {
   "cell_type": "code",
   "execution_count": null,
   "metadata": {},
   "outputs": [],
   "source": [
    "# hello.html\n",
    "\n",
    "<!doctype html>\n",
    "<html>\n",
    "    <head>\n",
    "        <title>First app</title>\n",
    "    <link rel=\"stylesheet\" href=\"{{ url_for('static', filename='style.css') }}\">\n",
    "    </head>\n",
    "    <body>\n",
    "<div>Hello {{ name }}</div>\n",
    "    </body>\n",
    "</html>"
   ]
  },
  {
   "cell_type": "markdown",
   "metadata": {},
   "source": [
    "将movie classifier转到web应用当中"
   ]
  },
  {
   "cell_type": "code",
   "execution_count": 2,
   "metadata": {},
   "outputs": [],
   "source": [
    "# app.py\n",
    "from flask import Flask, render_template, request\n",
    "from wtforms import Form, TextAreaField, validators\n",
    "import pickle\n",
    "import sqlite3\n",
    "import os\n",
    "import numpy as np\n",
    "# imiport HashingVectorizer from local dir\n",
    "from vectorizer import vect\n",
    "\n",
    "app = Flask(__name__)\n",
    "\n",
    "####### Preparing the Classifier\n",
    "cur_dir = os.path.dirname(__file__)\n",
    "clf = pickle.load(open(os.path.join(cur_dir,'pkl_objects/classifier.pkl'),'rb'))\n",
    "db = os.path.join(cur_dir, 'reviews.sqlite')\n",
    "\n",
    "def classify(document):\n",
    "    label = {0:'negative', 1:'positive'}\n",
    "    X = vect.transform([document])\n",
    "    y = clf.predict(X)[0]\n",
    "    proba = np.max(clf.predict_proba(X))\n",
    "    return label[y], proba\n",
    "\n",
    "def train(document,y):\n",
    "    X = vect.transform([document])\n",
    "    clf.partial_fit(X,[y])\n",
    "    \n",
    "def sqlite_entry(path, document,y):\n",
    "    conn = sqlite3.connect(path)\n",
    "    c = conn.cursor()\n",
    "    c.execute(\"INSERT INTO review_db (review, sentiment, date) \\\n",
    "              VALUES (?,?,DATETIME('now'))\",(document,y))\n",
    "    conn.commit()\n",
    "    conn.close()\n",
    "\n",
    "# web part\n",
    "class ReviewForm(Form):\n",
    "    moviereview = TextAreaField('',[validators.DataRequired(),validators.length(min=15)])\n",
    "    \n",
    "@app.route('/')\n",
    "def index():\n",
    "    form = ReviewForm(request.form)\n",
    "    return render_template('reviewform.html',form=form)\n",
    "\n",
    "@app.route('/results',methods=['POST'])\n",
    "def results():\n",
    "    form = ReviewForm(request.form)\n",
    "    if request.method == 'POST' and form.validate():\n",
    "        review = request.form['moviereview'] \n",
    "        y, proba = classify(review)\n",
    "        return render_template('results.html', content=review, prediction=y, probability=round(proba*100, 2))\n",
    "    return render_template('reviewform.html', form=form)\n",
    "\n",
    "@app.route('/thanks', methods=['POST'])\n",
    "def feedback():\n",
    "    feedback = request.form['feedback_button']\n",
    "    review = request.form['review']\n",
    "    prediction = request.form['prediction']\n",
    "    \n",
    "    inv_label = {'negative': 0, 'positive': 1}\n",
    "    y = inv_label[prediction]\n",
    "    if feedback == 'Incorrect':\n",
    "        y = int(not(y))\n",
    "    train(review, y)\n",
    "    sqlite_entry(db, review, y)\n",
    "    return render_template('thanks.html')\n",
    "\n",
    "from update import update_model\n",
    "\n",
    "if __name__ == '__main__':\n",
    "    update_model(filepath=db, model=clf, batch_size=10000)\n",
    "    app.run(debug=True)\n",
    "    "
   ]
  },
  {
   "cell_type": "code",
   "execution_count": null,
   "metadata": {},
   "outputs": [],
   "source": [
    "# reviewform.html\n",
    "\n",
    "<!doctype html>\n",
    "<html>\n",
    "<head>\n",
    "    <title>Movie Classification</title>\n",
    "</head>\n",
    "    <body>\n",
    "    \n",
    "    <h2>Please enter your movie review:</h2>\n",
    "        \n",
    "    {% from \"_formhelpers.html\" import render_field %}\n",
    "    \n",
    "<form method=post action=\"/results\">\n",
    "    <dl>\n",
    "        {{ render_field(form.moviereview, cols='30', rows='10') }}\n",
    "    </dl>\n",
    "    <div>\n",
    "        <input type=submit value='Submit review' name='submit_btn'>\n",
    "    </div>\n",
    "</form>\n",
    "\n",
    "    </body>\n",
    "</html>"
   ]
  },
  {
   "cell_type": "code",
   "execution_count": null,
   "metadata": {},
   "outputs": [],
   "source": [
    "# results.html\n",
    "\n",
    "<!doctype html>\n",
    "<html>\n",
    "    <head>\n",
    "        <title>Movie Classification</title>\n",
    "    <link rel=\"stylesheet\" href=\"{{ url_for('static',filename='style.css') }}\">\n",
    "    </head>\n",
    "    <body>\n",
    "    \n",
    "<h3>Your movie review:</h3>\n",
    "<div>{{ content }}</div>\n",
    "\n",
    "<h3>Prediction:</h3>\n",
    "<div>This movie review is <strong>{{ prediction }}</strong>(probability: {{ probability }}%).</div>\n",
    "\n",
    "<div id='button'>\n",
    "    <form action=\"/thanks\" method=\"post\">\n",
    "        <input type=submit value='Correct' name='feedback_button'>\n",
    "        <input type=submit value='Incorrect' name='feedback_button'>\n",
    "        <input type=hidden value='{{ prediction }}' name='prediction'>\n",
    "        <input type=hidden value='{{ content }}' name='review'>\n",
    "    </form>\n",
    "</div>\n",
    "\n",
    "<div id='button'>\n",
    "    <form action=\"/\">\n",
    "        <input type=submit value='Submit another review'>\n",
    "    </form>\n",
    "</div>\n",
    "\n",
    "    </body>\n",
    "</html>"
   ]
  },
  {
   "cell_type": "code",
   "execution_count": null,
   "metadata": {},
   "outputs": [],
   "source": [
    "# style.css\n",
    "\n",
    "body{\n",
    "    width:600px;\n",
    "}\n",
    "button{\n",
    "    padding-top: 20px;\n",
    "}"
   ]
  },
  {
   "cell_type": "code",
   "execution_count": null,
   "metadata": {},
   "outputs": [],
   "source": [
    "# thanks.html\n",
    "\n",
    "<!doctype html>\n",
    "<html>\n",
    "    <head>\n",
    "        <title>Movie Classification</title>\n",
    "</head>\n",
    "    <body>\n",
    "    \n",
    "<h3>Thank you for your feedback!</h3>\n",
    "<div id='button'>\n",
    "    <form action=\"/\">\n",
    "        <input type=submit value='Submit another review'>\n",
    "    </form>\n",
    "</div>\n",
    "\n",
    "    </body>\n",
    "</html>"
   ]
  },
  {
   "cell_type": "markdown",
   "metadata": {},
   "source": [
    "### 将web application放到public server\n",
    "在这里用PythonAnywhere web hosting service,  \n",
    "https://www.pythonanywhere.com/   \n",
    "\n",
    "http://luxuriance.pythonanywhere.com/  (这个项目放的地址）\n",
    "\n",
    "升级movie review classifier:\n",
    "因为在线的实时接受反馈数据，如果说不存储这些数据训练的模型，那么当软件崩溃的时候，又要重新初始化参数重新训练。 \n",
    "一个选择是，只要更新，那么就pickle这个clf对象，但是如果说用户数量很多，那么计算效率就会低，而且当用户同时提供反馈的时候，会发生冲撞，导致模型失效。  \n",
    "另一种一种解决方法是，利用SQLite在web端收集的数据来升级预测模型，在电脑的本机来升级分类器。  \n",
    "movieclassifier下面的 update.py "
   ]
  },
  {
   "cell_type": "code",
   "execution_count": null,
   "metadata": {},
   "outputs": [],
   "source": [
    "import pickle\n",
    "import sqlite3\n",
    "import numpy as np\n",
    "import os\n",
    "\n",
    "# import HashingVectorizer from local dir\n",
    "from vectorizer import vect\n",
    "\n",
    "def update_model(db_path, model, batch_size=10000):\n",
    "    conn = sqlite3.connect(db_path)\n",
    "    c = conn.cursor()\n",
    "    c.execute('SELECT * from review_db')\n",
    "    \n",
    "    results = c.fetchmany(batch_size)\n",
    "    while results:\n",
    "        data = np.array(results)\n",
    "        X = data[:, 0]\n",
    "        y = data[:, 1].astype(int)\n",
    "        \n",
    "        classes = np.array([0,1])\n",
    "        X_train = vect.transform(X)\n",
    "        clf.partial_fit(X_train, y, classes=classes)\n",
    "        result = c.fetchmany(batch_size)\n",
    "    conn.close()\n",
    "    return None\n",
    "\n",
    "cur_dir = os.path.dirname(__file__)\n",
    "\n",
    "clf = pickle.load(open(os.path.join(cur_dir,'pkl_objects','classifier.pkl'),'rb'))\n",
    "db = os.path.join(cur_dir, 'reviews.sqlite')\n",
    "\n",
    "update_model(db, clf, batch_size=10000)\n",
    "\n",
    "pickle.dump(clf, open(os.path.join(cur_dir,'pkl_objects','classifier.pkl'),'wb'),protocol=4)"
   ]
  }
 ],
 "metadata": {
  "kernelspec": {
   "display_name": "Python 3",
   "language": "python",
   "name": "python3"
  },
  "language_info": {
   "codemirror_mode": {
    "name": "ipython",
    "version": 3
   },
   "file_extension": ".py",
   "mimetype": "text/x-python",
   "name": "python",
   "nbconvert_exporter": "python",
   "pygments_lexer": "ipython3",
   "version": "3.6.4"
  }
 },
 "nbformat": 4,
 "nbformat_minor": 2
}
