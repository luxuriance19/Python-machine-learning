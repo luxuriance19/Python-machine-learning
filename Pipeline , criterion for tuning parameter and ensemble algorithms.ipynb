{
 "cells": [
  {
   "cell_type": "markdown",
   "metadata": {},
   "source": [
    "### Pipelines in scikit-learn"
   ]
  },
  {
   "cell_type": "code",
   "execution_count": 2,
   "metadata": {},
   "outputs": [],
   "source": [
    "import pandas as pd\n",
    "df = pd.read_csv('https://archive.ics.uci.edu/ml/machine-learning-databases/breast-cancer-wisconsin/wdbc.data',\\\n",
    "                 header=None)"
   ]
  },
  {
   "cell_type": "code",
   "execution_count": 3,
   "metadata": {},
   "outputs": [
    {
     "data": {
      "text/plain": [
       "<bound method NDFrame.describe of            0  1       2      3       4       5        6        7         8   \\\n",
       "0      842302  M  17.990  10.38  122.80  1001.0  0.11840  0.27760  0.300100   \n",
       "1      842517  M  20.570  17.77  132.90  1326.0  0.08474  0.07864  0.086900   \n",
       "2    84300903  M  19.690  21.25  130.00  1203.0  0.10960  0.15990  0.197400   \n",
       "3    84348301  M  11.420  20.38   77.58   386.1  0.14250  0.28390  0.241400   \n",
       "4    84358402  M  20.290  14.34  135.10  1297.0  0.10030  0.13280  0.198000   \n",
       "5      843786  M  12.450  15.70   82.57   477.1  0.12780  0.17000  0.157800   \n",
       "6      844359  M  18.250  19.98  119.60  1040.0  0.09463  0.10900  0.112700   \n",
       "7    84458202  M  13.710  20.83   90.20   577.9  0.11890  0.16450  0.093660   \n",
       "8      844981  M  13.000  21.82   87.50   519.8  0.12730  0.19320  0.185900   \n",
       "9    84501001  M  12.460  24.04   83.97   475.9  0.11860  0.23960  0.227300   \n",
       "10     845636  M  16.020  23.24  102.70   797.8  0.08206  0.06669  0.032990   \n",
       "11   84610002  M  15.780  17.89  103.60   781.0  0.09710  0.12920  0.099540   \n",
       "12     846226  M  19.170  24.80  132.40  1123.0  0.09740  0.24580  0.206500   \n",
       "13     846381  M  15.850  23.95  103.70   782.7  0.08401  0.10020  0.099380   \n",
       "14   84667401  M  13.730  22.61   93.60   578.3  0.11310  0.22930  0.212800   \n",
       "15   84799002  M  14.540  27.54   96.73   658.8  0.11390  0.15950  0.163900   \n",
       "16     848406  M  14.680  20.13   94.74   684.5  0.09867  0.07200  0.073950   \n",
       "17   84862001  M  16.130  20.68  108.10   798.8  0.11700  0.20220  0.172200   \n",
       "18     849014  M  19.810  22.15  130.00  1260.0  0.09831  0.10270  0.147900   \n",
       "19    8510426  B  13.540  14.36   87.46   566.3  0.09779  0.08129  0.066640   \n",
       "20    8510653  B  13.080  15.71   85.63   520.0  0.10750  0.12700  0.045680   \n",
       "21    8510824  B   9.504  12.44   60.34   273.9  0.10240  0.06492  0.029560   \n",
       "22    8511133  M  15.340  14.26  102.50   704.4  0.10730  0.21350  0.207700   \n",
       "23     851509  M  21.160  23.04  137.20  1404.0  0.09428  0.10220  0.109700   \n",
       "24     852552  M  16.650  21.38  110.00   904.6  0.11210  0.14570  0.152500   \n",
       "25     852631  M  17.140  16.40  116.00   912.7  0.11860  0.22760  0.222900   \n",
       "26     852763  M  14.580  21.53   97.41   644.8  0.10540  0.18680  0.142500   \n",
       "27     852781  M  18.610  20.25  122.10  1094.0  0.09440  0.10660  0.149000   \n",
       "28     852973  M  15.300  25.27  102.40   732.4  0.10820  0.16970  0.168300   \n",
       "29     853201  M  17.570  15.05  115.00   955.1  0.09847  0.11570  0.098750   \n",
       "..        ... ..     ...    ...     ...     ...      ...      ...       ...   \n",
       "539    921362  B   7.691  25.44   48.34   170.4  0.08668  0.11990  0.092520   \n",
       "540    921385  B  11.540  14.44   74.65   402.9  0.09984  0.11200  0.067370   \n",
       "541    921386  B  14.470  24.99   95.81   656.4  0.08837  0.12300  0.100900   \n",
       "542    921644  B  14.740  25.42   94.70   668.6  0.08275  0.07214  0.041050   \n",
       "543    922296  B  13.210  28.06   84.88   538.4  0.08671  0.06877  0.029870   \n",
       "544    922297  B  13.870  20.70   89.77   584.8  0.09578  0.10180  0.036880   \n",
       "545    922576  B  13.620  23.23   87.19   573.2  0.09246  0.06747  0.029740   \n",
       "546    922577  B  10.320  16.35   65.31   324.9  0.09434  0.04994  0.010120   \n",
       "547    922840  B  10.260  16.58   65.85   320.8  0.08877  0.08066  0.043580   \n",
       "548    923169  B   9.683  19.34   61.05   285.7  0.08491  0.05030  0.023370   \n",
       "549    923465  B  10.820  24.21   68.89   361.6  0.08192  0.06602  0.015480   \n",
       "550    923748  B  10.860  21.48   68.51   360.5  0.07431  0.04227  0.000000   \n",
       "551    923780  B  11.130  22.44   71.49   378.4  0.09566  0.08194  0.048240   \n",
       "552    924084  B  12.770  29.43   81.35   507.9  0.08276  0.04234  0.019970   \n",
       "553    924342  B   9.333  21.94   59.01   264.0  0.09240  0.05605  0.039960   \n",
       "554    924632  B  12.880  28.92   82.50   514.3  0.08123  0.05824  0.061950   \n",
       "555    924934  B  10.290  27.61   65.67   321.4  0.09030  0.07658  0.059990   \n",
       "556    924964  B  10.160  19.59   64.73   311.7  0.10030  0.07504  0.005025   \n",
       "557    925236  B   9.423  27.88   59.26   271.3  0.08123  0.04971  0.000000   \n",
       "558    925277  B  14.590  22.68   96.39   657.1  0.08473  0.13300  0.102900   \n",
       "559    925291  B  11.510  23.93   74.52   403.5  0.09261  0.10210  0.111200   \n",
       "560    925292  B  14.050  27.15   91.38   600.4  0.09929  0.11260  0.044620   \n",
       "561    925311  B  11.200  29.37   70.67   386.0  0.07449  0.03558  0.000000   \n",
       "562    925622  M  15.220  30.62  103.40   716.9  0.10480  0.20870  0.255000   \n",
       "563    926125  M  20.920  25.09  143.00  1347.0  0.10990  0.22360  0.317400   \n",
       "564    926424  M  21.560  22.39  142.00  1479.0  0.11100  0.11590  0.243900   \n",
       "565    926682  M  20.130  28.25  131.20  1261.0  0.09780  0.10340  0.144000   \n",
       "566    926954  M  16.600  28.08  108.30   858.1  0.08455  0.10230  0.092510   \n",
       "567    927241  M  20.600  29.33  140.10  1265.0  0.11780  0.27700  0.351400   \n",
       "568     92751  B   7.760  24.54   47.92   181.0  0.05263  0.04362  0.000000   \n",
       "\n",
       "           9    ...         22     23      24      25       26       27  \\\n",
       "0    0.147100   ...     25.380  17.33  184.60  2019.0  0.16220  0.66560   \n",
       "1    0.070170   ...     24.990  23.41  158.80  1956.0  0.12380  0.18660   \n",
       "2    0.127900   ...     23.570  25.53  152.50  1709.0  0.14440  0.42450   \n",
       "3    0.105200   ...     14.910  26.50   98.87   567.7  0.20980  0.86630   \n",
       "4    0.104300   ...     22.540  16.67  152.20  1575.0  0.13740  0.20500   \n",
       "5    0.080890   ...     15.470  23.75  103.40   741.6  0.17910  0.52490   \n",
       "6    0.074000   ...     22.880  27.66  153.20  1606.0  0.14420  0.25760   \n",
       "7    0.059850   ...     17.060  28.14  110.60   897.0  0.16540  0.36820   \n",
       "8    0.093530   ...     15.490  30.73  106.20   739.3  0.17030  0.54010   \n",
       "9    0.085430   ...     15.090  40.68   97.65   711.4  0.18530  1.05800   \n",
       "10   0.033230   ...     19.190  33.88  123.80  1150.0  0.11810  0.15510   \n",
       "11   0.066060   ...     20.420  27.28  136.50  1299.0  0.13960  0.56090   \n",
       "12   0.111800   ...     20.960  29.94  151.70  1332.0  0.10370  0.39030   \n",
       "13   0.053640   ...     16.840  27.66  112.00   876.5  0.11310  0.19240   \n",
       "14   0.080250   ...     15.030  32.01  108.80   697.7  0.16510  0.77250   \n",
       "15   0.073640   ...     17.460  37.13  124.10   943.2  0.16780  0.65770   \n",
       "16   0.052590   ...     19.070  30.88  123.40  1138.0  0.14640  0.18710   \n",
       "17   0.102800   ...     20.960  31.48  136.80  1315.0  0.17890  0.42330   \n",
       "18   0.094980   ...     27.320  30.88  186.80  2398.0  0.15120  0.31500   \n",
       "19   0.047810   ...     15.110  19.26   99.70   711.2  0.14400  0.17730   \n",
       "20   0.031100   ...     14.500  20.49   96.09   630.5  0.13120  0.27760   \n",
       "21   0.020760   ...     10.230  15.66   65.13   314.9  0.13240  0.11480   \n",
       "22   0.097560   ...     18.070  19.08  125.10   980.9  0.13900  0.59540   \n",
       "23   0.086320   ...     29.170  35.59  188.00  2615.0  0.14010  0.26000   \n",
       "24   0.091700   ...     26.460  31.56  177.00  2215.0  0.18050  0.35780   \n",
       "25   0.140100   ...     22.250  21.40  152.40  1461.0  0.15450  0.39490   \n",
       "26   0.087830   ...     17.620  33.21  122.40   896.9  0.15250  0.66430   \n",
       "27   0.077310   ...     21.310  27.26  139.90  1403.0  0.13380  0.21170   \n",
       "28   0.087510   ...     20.270  36.71  149.30  1269.0  0.16410  0.61100   \n",
       "29   0.079530   ...     20.010  19.52  134.90  1227.0  0.12550  0.28120   \n",
       "..        ...   ...        ...    ...     ...     ...      ...      ...   \n",
       "539  0.013640   ...      8.678  31.89   54.49   223.6  0.15960  0.30640   \n",
       "540  0.025940   ...     12.260  19.68   78.78   457.8  0.13450  0.21180   \n",
       "541  0.038900   ...     16.220  31.73  113.50   808.9  0.13400  0.42020   \n",
       "542  0.030270   ...     16.510  32.29  107.40   826.4  0.10600  0.13760   \n",
       "543  0.032750   ...     14.370  37.17   92.48   629.6  0.10720  0.13810   \n",
       "544  0.023690   ...     15.050  24.75   99.17   688.6  0.12640  0.20370   \n",
       "545  0.024430   ...     15.350  29.09   97.58   729.8  0.12160  0.15170   \n",
       "546  0.005495   ...     11.250  21.77   71.12   384.9  0.12850  0.08842   \n",
       "547  0.024380   ...     10.830  22.04   71.08   357.4  0.14610  0.22460   \n",
       "548  0.009615   ...     10.930  25.59   69.10   364.2  0.11990  0.09546   \n",
       "549  0.008160   ...     13.030  31.45   83.90   505.6  0.12040  0.16330   \n",
       "550  0.000000   ...     11.660  24.77   74.08   412.3  0.10010  0.07348   \n",
       "551  0.022570   ...     12.020  28.26   77.80   436.6  0.10870  0.17820   \n",
       "552  0.014990   ...     13.870  36.00   88.10   594.7  0.12340  0.10640   \n",
       "553  0.012820   ...      9.845  25.05   62.86   295.8  0.11030  0.08298   \n",
       "554  0.023430   ...     13.890  35.74   88.84   595.7  0.12270  0.16200   \n",
       "555  0.027380   ...     10.840  34.91   69.57   357.6  0.13840  0.17100   \n",
       "556  0.011160   ...     10.650  22.88   67.88   347.3  0.12650  0.12000   \n",
       "557  0.000000   ...     10.490  34.24   66.50   330.6  0.10730  0.07158   \n",
       "558  0.037360   ...     15.480  27.27  105.90   733.5  0.10260  0.31710   \n",
       "559  0.041050   ...     12.480  37.16   82.28   474.2  0.12980  0.25170   \n",
       "560  0.043040   ...     15.300  33.17  100.20   706.7  0.12410  0.22640   \n",
       "561  0.000000   ...     11.920  38.30   75.19   439.6  0.09267  0.05494   \n",
       "562  0.094290   ...     17.520  42.79  128.70   915.0  0.14170  0.79170   \n",
       "563  0.147400   ...     24.290  29.41  179.10  1819.0  0.14070  0.41860   \n",
       "564  0.138900   ...     25.450  26.40  166.10  2027.0  0.14100  0.21130   \n",
       "565  0.097910   ...     23.690  38.25  155.00  1731.0  0.11660  0.19220   \n",
       "566  0.053020   ...     18.980  34.12  126.70  1124.0  0.11390  0.30940   \n",
       "567  0.152000   ...     25.740  39.42  184.60  1821.0  0.16500  0.86810   \n",
       "568  0.000000   ...      9.456  30.37   59.16   268.6  0.08996  0.06444   \n",
       "\n",
       "          28       29      30       31  \n",
       "0    0.71190  0.26540  0.4601  0.11890  \n",
       "1    0.24160  0.18600  0.2750  0.08902  \n",
       "2    0.45040  0.24300  0.3613  0.08758  \n",
       "3    0.68690  0.25750  0.6638  0.17300  \n",
       "4    0.40000  0.16250  0.2364  0.07678  \n",
       "5    0.53550  0.17410  0.3985  0.12440  \n",
       "6    0.37840  0.19320  0.3063  0.08368  \n",
       "7    0.26780  0.15560  0.3196  0.11510  \n",
       "8    0.53900  0.20600  0.4378  0.10720  \n",
       "9    1.10500  0.22100  0.4366  0.20750  \n",
       "10   0.14590  0.09975  0.2948  0.08452  \n",
       "11   0.39650  0.18100  0.3792  0.10480  \n",
       "12   0.36390  0.17670  0.3176  0.10230  \n",
       "13   0.23220  0.11190  0.2809  0.06287  \n",
       "14   0.69430  0.22080  0.3596  0.14310  \n",
       "15   0.70260  0.17120  0.4218  0.13410  \n",
       "16   0.29140  0.16090  0.3029  0.08216  \n",
       "17   0.47840  0.20730  0.3706  0.11420  \n",
       "18   0.53720  0.23880  0.2768  0.07615  \n",
       "19   0.23900  0.12880  0.2977  0.07259  \n",
       "20   0.18900  0.07283  0.3184  0.08183  \n",
       "21   0.08867  0.06227  0.2450  0.07773  \n",
       "22   0.63050  0.23930  0.4667  0.09946  \n",
       "23   0.31550  0.20090  0.2822  0.07526  \n",
       "24   0.46950  0.20950  0.3613  0.09564  \n",
       "25   0.38530  0.25500  0.4066  0.10590  \n",
       "26   0.55390  0.27010  0.4264  0.12750  \n",
       "27   0.34460  0.14900  0.2341  0.07421  \n",
       "28   0.63350  0.20240  0.4027  0.09876  \n",
       "29   0.24890  0.14560  0.2756  0.07919  \n",
       "..       ...      ...     ...      ...  \n",
       "539  0.33930  0.05000  0.2790  0.10660  \n",
       "540  0.17970  0.06918  0.2329  0.08134  \n",
       "541  0.40400  0.12050  0.3187  0.10230  \n",
       "542  0.16110  0.10950  0.2722  0.06956  \n",
       "543  0.10620  0.07958  0.2473  0.06443  \n",
       "544  0.13770  0.06845  0.2249  0.08492  \n",
       "545  0.10490  0.07174  0.2642  0.06953  \n",
       "546  0.04384  0.02381  0.2681  0.07399  \n",
       "547  0.17830  0.08333  0.2691  0.09479  \n",
       "548  0.09350  0.03846  0.2552  0.07920  \n",
       "549  0.06194  0.03264  0.3059  0.07626  \n",
       "550  0.00000  0.00000  0.2458  0.06592  \n",
       "551  0.15640  0.06413  0.3169  0.08032  \n",
       "552  0.08653  0.06498  0.2407  0.06484  \n",
       "553  0.07993  0.02564  0.2435  0.07393  \n",
       "554  0.24390  0.06493  0.2372  0.07242  \n",
       "555  0.20000  0.09127  0.2226  0.08283  \n",
       "556  0.01005  0.02232  0.2262  0.06742  \n",
       "557  0.00000  0.00000  0.2475  0.06969  \n",
       "558  0.36620  0.11050  0.2258  0.08004  \n",
       "559  0.36300  0.09653  0.2112  0.08732  \n",
       "560  0.13260  0.10480  0.2250  0.08321  \n",
       "561  0.00000  0.00000  0.1566  0.05905  \n",
       "562  1.17000  0.23560  0.4089  0.14090  \n",
       "563  0.65990  0.25420  0.2929  0.09873  \n",
       "564  0.41070  0.22160  0.2060  0.07115  \n",
       "565  0.32150  0.16280  0.2572  0.06637  \n",
       "566  0.34030  0.14180  0.2218  0.07820  \n",
       "567  0.93870  0.26500  0.4087  0.12400  \n",
       "568  0.00000  0.00000  0.2871  0.07039  \n",
       "\n",
       "[569 rows x 32 columns]>"
      ]
     },
     "execution_count": 3,
     "metadata": {},
     "output_type": "execute_result"
    }
   ],
   "source": [
    "df.describe #569*32 30 features前面两个分别是标号和对应的的诊断"
   ]
  },
  {
   "cell_type": "code",
   "execution_count": 6,
   "metadata": {},
   "outputs": [],
   "source": [
    "from sklearn.preprocessing import LabelEncoder\n",
    "X = df.loc[:,2:].values\n",
    "y = df.loc[:,1].values\n",
    "le = LabelEncoder()\n",
    "y = le.fit_transform(y)"
   ]
  },
  {
   "cell_type": "code",
   "execution_count": 9,
   "metadata": {},
   "outputs": [
    {
     "data": {
      "text/plain": [
       "array([1, 0])"
      ]
     },
     "execution_count": 9,
     "metadata": {},
     "output_type": "execute_result"
    }
   ],
   "source": [
    "le.transform(['M',\"B\"])"
   ]
  },
  {
   "cell_type": "code",
   "execution_count": 10,
   "metadata": {},
   "outputs": [
    {
     "name": "stderr",
     "output_type": "stream",
     "text": [
      "/home/lily/tf3.6/lib/python3.6/site-packages/sklearn/cross_validation.py:41: DeprecationWarning: This module was deprecated in version 0.18 in favor of the model_selection module into which all the refactored classes and functions are moved. Also note that the interface of the new CV iterators are different from that of this module. This module will be removed in 0.20.\n",
      "  \"This module will be removed in 0.20.\", DeprecationWarning)\n"
     ]
    }
   ],
   "source": [
    "from sklearn.cross_validation import train_test_split\n",
    "X_train,X_test,y_train,y_test = train_test_split(X,y,test_size=0.20, random_state=1)"
   ]
  },
  {
   "cell_type": "markdown",
   "metadata": {},
   "source": [
    "将Pipeline中嵌入StandardScaler,PCA,LogisticRegression\n",
    "\n",
    "Pipeline对象的输入是一个元组组成的列表，每个元组的第一个值是任意的指示字符串表示在pipeline中进入单一元素，第二个元素是scikit-learn的transformer或者estimator。"
   ]
  },
  {
   "cell_type": "code",
   "execution_count": 12,
   "metadata": {},
   "outputs": [
    {
     "name": "stdout",
     "output_type": "stream",
     "text": [
      "Test Accuracy:0.947\n"
     ]
    }
   ],
   "source": [
    "from sklearn.preprocessing import StandardScaler\n",
    "from sklearn.decomposition import PCA\n",
    "from sklearn.linear_model import LogisticRegression\n",
    "from sklearn.pipeline import Pipeline\n",
    "pipe_lr = Pipeline([('scl',StandardScaler()),('pca',PCA(n_components=2)),('clf',LogisticRegression())])\n",
    "pipe_lr.fit(X_train,y_train)\n",
    "print('Test Accuracy:%.3f'%pipe_lr.score(X_test,y_test))"
   ]
  },
  {
   "cell_type": "code",
   "execution_count": 15,
   "metadata": {},
   "outputs": [
    {
     "name": "stdout",
     "output_type": "stream",
     "text": [
      "Fold: 1, Class dist: [256 153], Acc: 0.891\n",
      "Fold: 2, Class dist: [256 153], Acc: 0.978\n",
      "Fold: 3, Class dist: [256 153], Acc: 0.978\n",
      "Fold: 4, Class dist: [256 153], Acc: 0.913\n",
      "Fold: 5, Class dist: [256 153], Acc: 0.935\n",
      "Fold: 6, Class dist: [257 153], Acc: 0.978\n",
      "Fold: 7, Class dist: [257 153], Acc: 0.933\n",
      "Fold: 8, Class dist: [257 153], Acc: 0.956\n",
      "Fold: 9, Class dist: [257 153], Acc: 0.978\n",
      "Fold: 10, Class dist: [257 153], Acc: 0.956\n",
      "CV accuracy: 0.950 +/- 0.029\n"
     ]
    }
   ],
   "source": [
    "import numpy as np\n",
    "from sklearn.cross_validation import StratifiedKFold\n",
    "kfold = StratifiedKFold(y=y_train, n_folds=10)\n",
    "scores = []\n",
    "for k, (train, test) in enumerate(kfold):\n",
    "    pipe_lr.fit(X_train[train],y_train[train])\n",
    "    score = pipe_lr.score(X_train[test],y_train[test])\n",
    "    scores.append(score)\n",
    "    print('Fold: %s, Class dist: %s, Acc: %.3f'%(k+1, np.bincount(y_train[train]), score))\n",
    "print('CV accuracy: %.3f +/- %.3f'%(np.mean(scores),np.std(scores)))"
   ]
  },
  {
   "cell_type": "code",
   "execution_count": 16,
   "metadata": {},
   "outputs": [
    {
     "name": "stdout",
     "output_type": "stream",
     "text": [
      "CV accuracy scores: [0.89130435 0.97826087 0.97826087 0.91304348 0.93478261 0.97777778\n",
      " 0.93333333 0.95555556 0.97777778 0.95555556]\n",
      "CV accuracy: 0.950 +/- 0.029\n"
     ]
    }
   ],
   "source": [
    "from sklearn.cross_validation import cross_val_score\n",
    "scores = cross_val_score(estimator=pipe_lr, X=X_train, y=y_train, cv=10, n_jobs=1)\n",
    "print('CV accuracy scores: %s' % scores)\n",
    "print('CV accuracy: %.3f +/- %.3f'%(np.mean(scores),np.std(scores)))"
   ]
  },
  {
   "cell_type": "code",
   "execution_count": 28,
   "metadata": {},
   "outputs": [
    {
     "data": {
      "image/png": "[encoded data removed]",
      "text/plain": [
       "<matplotlib.figure.Figure at 0x7f5779f16278>"
      ]
     },
     "metadata": {},
     "output_type": "display_data"
    }
   ],
   "source": [
    "import matplotlib.pyplot as plt\n",
    "from sklearn.learning_curve import learning_curve\n",
    "pipe_lr = Pipeline([('scl', StandardScaler()),('clf', LogisticRegression(penalty='l2', random_state=0))])\n",
    "train_sizes, train_scores, test_scores =learning_curve(estimator=pipe_lr,\\\n",
    "                                                       X=X_train,y=y_train,\\\n",
    "                                                       train_sizes=np.linspace(0.1, 1.0, 10),\\\n",
    "                                                       #np.linspace(start,stop,num)\n",
    "                                                       cv=10,n_jobs=1)\n",
    "train_mean = np.mean(train_scores, axis=1)\n",
    "train_std = np.std(train_scores, axis=1)\n",
    "test_mean = np.mean(test_scores, axis=1)\n",
    "test_std = np.std(test_scores, axis=1)\n",
    "plt.plot(train_sizes, train_mean,color='blue', marker='o',markersize=5,label='training accuracy')\n",
    "plt.fill_between(train_sizes,train_mean + train_std,train_mean - train_std,alpha=0.15, color='blue')\n",
    "plt.plot(train_sizes, test_mean,color='green', linestyle='--',marker='s', markersize=5,label='validation accuracy')\n",
    "plt.fill_between(train_sizes,test_mean + test_std,test_mean - test_std,alpha=0.15, color='green')\n",
    "plt.grid()\n",
    "plt.xlabel('Number of training samples')\n",
    "plt.ylabel('Accuracy')\n",
    "plt.legend(loc='lower right')\n",
    "plt.ylim([0.8, 1.0])\n",
    "plt.show()                "
   ]
  },
  {
   "cell_type": "markdown",
   "metadata": {},
   "source": [
    "由上面的图可以看出来，训练集的方差小，但是验证集的方差大。"
   ]
  },
  {
   "cell_type": "code",
   "execution_count": 27,
   "metadata": {},
   "outputs": [
    {
     "data": {
      "image/png": "[encoded data removed]",
      "text/plain": [
       "<matplotlib.figure.Figure at 0x7f5779fdbef0>"
      ]
     },
     "metadata": {},
     "output_type": "display_data"
    }
   ],
   "source": [
    "import matplotlib.pyplot as plt\n",
    "from sklearn.learning_curve import learning_curve\n",
    "pipe_lr = Pipeline([('scl', StandardScaler()),('clf', LogisticRegression(penalty='l2', random_state=0))])\n",
    "train_sizes, train_scores, test_scores =learning_curve(estimator=pipe_lr,\\\n",
    "                                                       X=X_train,y=y_train,\\\n",
    "                                                       train_sizes=np.linspace(0.1, 1.0, 10),\\\n",
    "                                                       cv=20,n_jobs=1)\n",
    "train_mean = np.mean(train_scores, axis=1)\n",
    "train_std = np.std(train_scores, axis=1)\n",
    "test_mean = np.mean(test_scores, axis=1)\n",
    "test_std = np.std(test_scores, axis=1)\n",
    "plt.plot(train_sizes, train_mean,color='blue', marker='o',markersize=5,label='training accuracy')\n",
    "plt.fill_between(train_sizes,train_mean + train_std,train_mean - train_std,alpha=0.15, color='blue')\n",
    "plt.plot(train_sizes, test_mean,color='green', linestyle='--',marker='s', markersize=5,label='validation accuracy')\n",
    "plt.fill_between(train_sizes,test_mean + test_std,test_mean - test_std,alpha=0.15, color='green')\n",
    "plt.grid()\n",
    "plt.xlabel('Number of training samples')\n",
    "plt.ylabel('Accuracy')\n",
    "plt.legend(loc='lower right')\n",
    "plt.ylim([0.8, 1.0])\n",
    "plt.show()   "
   ]
  },
  {
   "cell_type": "markdown",
   "metadata": {},
   "source": [
    "当M的值增加的时候，验证集的方差更加大了。但是偏差（模型的估计值和真实值之间的差距）会变小，因为参加拟合模型的训练样本量很大。"
   ]
  },
  {
   "cell_type": "code",
   "execution_count": 36,
   "metadata": {},
   "outputs": [
    {
     "data": {
      "image/png": "[encoded data removed]",
      "text/plain": [
       "<matplotlib.figure.Figure at 0x7f5779d172b0>"
      ]
     },
     "metadata": {},
     "output_type": "display_data"
    }
   ],
   "source": [
    "from sklearn.model_selection import validation_curve\n",
    "param_range = [0.001, 0.01, 0.1, 1.0, 10.0, 100.0] #regularization strength,small C large regularization strength\n",
    "train_scores,test_scores = validation_curve(estimator=pipe_lr, X = X_train, y=y_train, \\\n",
    "                                            param_name='clf__C',param_range=param_range,cv=10) #注意param_name,这里下划线是两个\n",
    "train_mean = np.mean(train_scores, axis=1)\n",
    "train_std = np.std(train_scores,axis=1)\n",
    "test_mean = np.mean(test_scores,axis=1)\n",
    "test_std  = np.std(test_scores, axis=1)\n",
    "plt.plot(param_range,train_mean, color='blue', marker='o',markersize=5, label='training accuracy')\n",
    "plt.fill_between(param_range, train_mean + train_std, train_mean - train_std, alpha=0.15, color='blue')\n",
    "plt.plot(param_range, test_mean, color='green', linestyle='--', marker='s', markersize=5, label='validation accuracy')\n",
    "plt.fill_between(param_range, test_mean + test_std, test_mean - test_std, alpha=0.15, color='green')\n",
    "plt.grid()\n",
    "plt.xscale('log') #注意这里对x轴取了对数值\n",
    "plt.legend(loc='lower right')\n",
    "plt.xlabel('Parameter C')\n",
    "plt.ylabel('Accuracy')\n",
    "plt.ylim([0.8, 1.0])\n",
    "plt.show()"
   ]
  },
  {
   "attachments": {
    "image.png": {
     "image/png": "[encoded data removed]"
    }
   },
   "cell_type": "markdown",
   "metadata": {},
   "source": [
    "由上图所示，在C=0.1的时候validadtion的准确程度是最佳的，选择这个点最佳，在sklearn的实现当中，C越大正则越小，样请间下面的图片\n",
    "![image.png](attachment:image.png)"
   ]
  },
  {
   "cell_type": "code",
   "execution_count": 45,
   "metadata": {},
   "outputs": [
    {
     "name": "stdout",
     "output_type": "stream",
     "text": [
      "0.978021978021978\n",
      "{'clf__C': 0.1, 'clf__kernel': 'linear'}\n"
     ]
    }
   ],
   "source": [
    "from sklearn.grid_search import GridSearchCV\n",
    "from sklearn.svm import SVC\n",
    "pipe_svc = Pipeline([('scl', StandardScaler()),('clf', SVC(random_state=1))])\n",
    "param_range = [0.0001, 0.001, 0.01, 0.1, 1.0, 10.0, 100.0, 1000.0]\n",
    "param_grid = [{'clf__C': param_range,'clf__kernel': ['linear']},\\\n",
    "              {'clf__C': param_range,'clf__gamma': param_range,'clf__kernel': ['rbf']}] # C是正则的倒数\n",
    "gs = GridSearchCV(estimator=pipe_svc, param_grid=param_grid, scoring='accuracy', cv=10, n_jobs=-1)\n",
    "gs = gs.fit(X_train, y_train)\n",
    "print(gs.best_score_)\n",
    "print(gs.best_params_)\n",
    "#print(gs.grid_scores_)"
   ]
  },
  {
   "cell_type": "code",
   "execution_count": 46,
   "metadata": {},
   "outputs": [
    {
     "name": "stdout",
     "output_type": "stream",
     "text": [
      "Test accuracy:0.965\n"
     ]
    }
   ],
   "source": [
    "clf = gs.best_estimator_\n",
    "clf.fit(X_train,y_train)\n",
    "print('Test accuracy:%.3f'%clf.score(X_test,y_test))"
   ]
  },
  {
   "cell_type": "code",
   "execution_count": 47,
   "metadata": {},
   "outputs": [
    {
     "name": "stdout",
     "output_type": "stream",
     "text": [
      "CV accuracy: 0.972 +/- 0.012\n"
     ]
    }
   ],
   "source": [
    "gs = GridSearchCV(estimator=pipe_svc, param_grid=param_grid, scoring='accuracy', cv=10, n_jobs=-1)\n",
    "scores = cross_val_score(gs, X, y, scoring='accuracy', cv = 5)\n",
    "print('CV accuracy: %.3f +/- %.3f' % (np.mean(scores), np.std(scores)))"
   ]
  },
  {
   "cell_type": "code",
   "execution_count": 48,
   "metadata": {},
   "outputs": [
    {
     "name": "stdout",
     "output_type": "stream",
     "text": [
      "CV accuracy: 0.917 +/- 0.009\n"
     ]
    }
   ],
   "source": [
    "from sklearn.tree import DecisionTreeClassifier\n",
    "gs = GridSearchCV(estimator=DecisionTreeClassifier(random_state=0),\\\n",
    "                  param_grid=[{'max_depth': [1, 2, 3, 4, 5, 6, 7, None]}],scoring='accuracy',cv=5)\n",
    "scores = cross_val_score(gs, X, y, scoring='accuracy', cv=5)\n",
    "print('CV accuracy: %.3f +/- %.3f' % (np.mean(scores), np.std(scores)))"
   ]
  },
  {
   "cell_type": "code",
   "execution_count": 57,
   "metadata": {},
   "outputs": [
    {
     "name": "stdout",
     "output_type": "stream",
     "text": [
      "[[71  1]\n",
      " [ 2 40]]\n"
     ]
    }
   ],
   "source": [
    "from sklearn.metrics import confusion_matrix\n",
    "pipe_svc.fit(X_train, y_train)\n",
    "y_pred = pipe_svc.predict(X_test)\n",
    "confmat = confusion_matrix(y_true=y_test, y_pred=y_pred)\n",
    "print(confmat)"
   ]
  },
  {
   "cell_type": "code",
   "execution_count": 58,
   "metadata": {},
   "outputs": [
    {
     "data": {
      "image/png": "[encoded data removed]",
      "text/plain": [
       "<matplotlib.figure.Figure at 0x7f5779eac630>"
      ]
     },
     "metadata": {},
     "output_type": "display_data"
    }
   ],
   "source": [
    "fig, ax = plt.subplots(figsize=(2.5, 2.5))\n",
    "ax.matshow(confmat, cmap=plt.cm.Blues, alpha=0.3)\n",
    "for i in range(confmat.shape[0]):\n",
    "    for j in range(confmat.shape[1]):\n",
    "        ax.text(x=j, y=i,s=confmat[i, j],va='center', ha='center')\n",
    "plt.xlabel('predicted label')\n",
    "plt.ylabel('true label')\n",
    "plt.show()"
   ]
  },
  {
   "cell_type": "code",
   "execution_count": 62,
   "metadata": {},
   "outputs": [
    {
     "name": "stdout",
     "output_type": "stream",
     "text": [
      "Precision: 0.976\n",
      "Recall: 0.952\n",
      "F1: 0.964\n"
     ]
    }
   ],
   "source": [
    "from sklearn.metrics import precision_score, recall_score, f1_score\n",
    "print('Precision: %.3f' % precision_score(y_true=y_test, y_pred=y_pred))\n",
    "print('Recall: %.3f' % recall_score(y_true=y_test, y_pred=y_pred))\n",
    "print('F1: %.3f' % f1_score(y_true=y_test, y_pred=y_pred))"
   ]
  },
  {
   "cell_type": "markdown",
   "metadata": {},
   "source": [
    "在sklearn中，正样本默认值为1,如果需要修改，可以利用sklearn.metrics里make_scorer进行修改。"
   ]
  },
  {
   "cell_type": "code",
   "execution_count": 63,
   "metadata": {},
   "outputs": [],
   "source": [
    "from sklearn.metrics import make_scorer, f1_score\n",
    "scorer = make_scorer(f1_score, pos_label=0)\n",
    "gs = GridSearchCV(estimator= pipe_svc, param_grid = param_grid, scoring=scorer, cv=10)"
   ]
  },
  {
   "cell_type": "code",
   "execution_count": 65,
   "metadata": {},
   "outputs": [
    {
     "data": {
      "image/png": "[encoded data removed]",
      "text/plain": [
       "<matplotlib.figure.Figure at 0x7f5779cb1f60>"
      ]
     },
     "metadata": {},
     "output_type": "display_data"
    }
   ],
   "source": [
    "from sklearn.metrics import roc_curve, auc\n",
    "from scipy import interp # interp是线性插值函数，interp(x,xp,fp)x代表要预测的x轴的值，xp是给定数据的x轴的值，fp是给定数据的y轴的值\n",
    "X_train2 = X_train[:, [4, 14]]\n",
    "cv = StratifiedKFold(y_train,n_folds=3,random_state=1)\n",
    "fig = plt.figure(figsize=(7, 5))\n",
    "mean_tpr = 0.0\n",
    "mean_fpr = np.linspace(0, 1, 100)\n",
    "all_tpr = []\n",
    "for i, (train, test) in enumerate(cv):\n",
    "    probas = pipe_lr.fit(X_train2[train],y_train[train]).predict_proba(X_train2[test])\n",
    "    fpr, tpr, thresholds = roc_curve(y_train[test],probas[:, 1],pos_label=1)\n",
    "    mean_tpr += interp(mean_fpr, fpr, tpr)\n",
    "    mean_tpr[0] = 0.0\n",
    "    roc_auc = auc(fpr, tpr)\n",
    "plt.plot(fpr,tpr,lw=1,label='ROC fold %d (area = %0.2f)'% (i+1, roc_auc))\n",
    "plt.plot([0, 1],[0, 1],linestyle='--',color=(0.6, 0.6, 0.6),label='random guessing')\n",
    "mean_tpr /= len(cv)\n",
    "mean_tpr[-1] = 1.0\n",
    "mean_auc = auc(mean_fpr, mean_tpr)\n",
    "plt.plot(mean_fpr, mean_tpr, 'k--',label='mean ROC (area = %0.2f)' % mean_auc, lw=2)\n",
    "plt.plot([0, 0, 1],[0, 1, 1],lw=2,linestyle=':',color='black',label='perfect performance')\n",
    "plt.xlim([-0.05, 1.05])\n",
    "plt.ylim([-0.05, 1.05])\n",
    "plt.xlabel('false positive rate')\n",
    "plt.ylabel('true positive rate')\n",
    "plt.title('Receiver Operator Characteristic')\n",
    "plt.legend(loc=\"lower right\")\n",
    "plt.show()"
   ]
  },
  {
   "cell_type": "code",
   "execution_count": 67,
   "metadata": {},
   "outputs": [
    {
     "name": "stdout",
     "output_type": "stream",
     "text": [
      "ROC AUC: 0.671\n",
      "Accuracy: 0.728\n"
     ]
    }
   ],
   "source": [
    "pipe_svc = pipe_svc.fit(X_train2, y_train)\n",
    "y_pred2 = pipe_svc.predict(X_test[:, [4, 14]])\n",
    "from sklearn.metrics import roc_auc_score\n",
    "from sklearn.metrics import accuracy_score\n",
    "print('ROC AUC: %.3f' % roc_auc_score(y_true=y_test, y_score=y_pred2))\n",
    "print('Accuracy: %.3f' % accuracy_score(y_true=y_test, y_pred=y_pred2))"
   ]
  },
  {
   "cell_type": "markdown",
   "metadata": {},
   "source": [
    "在scikit-learn中，多分类粉体有两种评价方式，macro和micro两种，都是通过一堆多来进行分类。  \n",
    "> micro average:\n",
    " precision_micro = (TP1+TP2+...+TPK)/(TP1+TP2+...+TPK+FP1+FP2+...FPK)  \n",
    " precision_macro = (precision1+precision2+...+precisionk)/k\n",
    " \n",
    "如果说想要把每个样本的权重都看成一样的，micro-averageing是有用的  \n",
    "macro-averaging 是将所有的类别都同等对待  \n",
    "加权的macro-averaging通过对每个类别的label用正确的样本类别评分来加权，当类别分布不均时，这种方法是非常有效的。  \n",
    "在scikit-learn中间，加权的macro-averaging是默认的，可以通过改变average参数来改变评分"
   ]
  },
  {
   "cell_type": "code",
   "execution_count": 68,
   "metadata": {},
   "outputs": [],
   "source": [
    "pre_scorer = make_scorer(score_func=precision_score, pos_label=1, greater_is_better=True,\n",
    "                        average='micro')"
   ]
  },
  {
   "cell_type": "markdown",
   "metadata": {},
   "source": [
    "### Ensemble learning "
   ]
  },
  {
   "cell_type": "code",
   "execution_count": 69,
   "metadata": {},
   "outputs": [
    {
     "name": "stderr",
     "output_type": "stream",
     "text": [
      "/home/lily/tf3.6/lib/python3.6/site-packages/ipykernel_launcher.py:5: DeprecationWarning: `comb` is deprecated!\n",
      "Importing `comb` from scipy.misc is deprecated in scipy 1.0.0. Use `scipy.special.comb` instead.\n",
      "  \"\"\"\n"
     ]
    },
    {
     "data": {
      "text/plain": [
       "0.03432750701904297"
      ]
     },
     "execution_count": 69,
     "metadata": {},
     "output_type": "execute_result"
    }
   ],
   "source": [
    "from scipy.misc import comb\n",
    "import math\n",
    "def ensemble_error(n_classifier,error):\n",
    "    k_start = math.ceil(n_classifier/2.0)\n",
    "    probs = [comb(n_classifier, k)*error**k*(1-error)**(n_classifier-k) for k in range(k_start, n_classifier+1)]\n",
    "    return sum(probs)\n",
    "ensemble_error(n_classifier=11, error=0.25)"
   ]
  },
  {
   "cell_type": "code",
   "execution_count": 70,
   "metadata": {},
   "outputs": [
    {
     "name": "stderr",
     "output_type": "stream",
     "text": [
      "/home/lily/tf3.6/lib/python3.6/site-packages/ipykernel_launcher.py:5: DeprecationWarning: `comb` is deprecated!\n",
      "Importing `comb` from scipy.misc is deprecated in scipy 1.0.0. Use `scipy.special.comb` instead.\n",
      "  \"\"\"\n"
     ]
    },
    {
     "data": {
      "image/png": "[encoded data removed]",
      "text/plain": [
       "<matplotlib.figure.Figure at 0x7f5779cb1668>"
      ]
     },
     "metadata": {},
     "output_type": "display_data"
    }
   ],
   "source": [
    "import numpy as np\n",
    "error_range = np.arange(0.0,1.01,0.01)\n",
    "ens_errors = [ensemble_error(n_classifier=11, error=error) for error in error_range]\n",
    "import matplotlib.pyplot as plt\n",
    "plt.plot(error_range, ens_errors, label='Ensemble error',linewidth=2)\n",
    "plt.plot(error_range, error_range, linestyle='--',label='Base error',linewidth=2)\n",
    "plt.xlabel('Base error')\n",
    "plt.ylabel('Base/Ensemble error')\n",
    "plt.legend(loc='upper left')\n",
    "plt.grid()\n",
    "plt.show()"
   ]
  },
  {
   "cell_type": "markdown",
   "metadata": {},
   "source": [
    "plurality voting(majority voting) implementation"
   ]
  },
  {
   "cell_type": "code",
   "execution_count": 72,
   "metadata": {},
   "outputs": [
    {
     "data": {
      "text/plain": [
       "1"
      ]
     },
     "execution_count": 72,
     "metadata": {},
     "output_type": "execute_result"
    }
   ],
   "source": [
    "import numpy as np\n",
    "np.argmax(np.bincount([0,0,1], weights=[0.2,0.2,0.6]))"
   ]
  },
  {
   "cell_type": "code",
   "execution_count": 75,
   "metadata": {},
   "outputs": [
    {
     "data": {
      "text/plain": [
       "0"
      ]
     },
     "execution_count": 75,
     "metadata": {},
     "output_type": "execute_result"
    }
   ],
   "source": [
    "ex = np.array([[0.9, 0.1],\n",
    "               [0.8, 0.2],\n",
    "               [0.4, 0.6]])\n",
    "p = np.average(ex, axis=0, weights=[0.2, 0.2, 0.6])\n",
    "np.argmax(p)"
   ]
  },
  {
   "cell_type": "code",
   "execution_count": null,
   "metadata": {},
   "outputs": [],
   "source": []
  },
  {
   "cell_type": "code",
   "execution_count": 111,
   "metadata": {},
   "outputs": [],
   "source": [
    "# impelemaennt a MajorityVoteClassifier\n",
    "from sklearn.base import BaseEstimator\n",
    "from sklearn.base import ClassifierMixin\n",
    "from sklearn.preprocessing import LabelEncoder\n",
    "from sklearn.externals import six\n",
    "from sklearn.base import clone\n",
    "from sklearn.pipeline import _name_estimators\n",
    "import numpy as np\n",
    "import operator\n",
    "\n",
    "class MajorityVoteClassifier(BaseEstimator, ClassifierMixin): #继承了两个父类\n",
    "    \"\"\" \n",
    "    A majority vote ensemble classifier\n",
    "    \n",
    "    Parameters\n",
    "    ----------\n",
    "    classifiers : array-like, shape = [n_classifiers]\n",
    "      Different classifiers for the ensemble\n",
    "      \n",
    "    vote : str, {'classlabel', 'probability'}\n",
    "      Default: 'classlabel'\n",
    "      If 'classlabel' the prediction is based on\n",
    "      the argmax of class labels. Else if\n",
    "      'probability', the argmax of the sum of\n",
    "      probabilities is used to predict the class label\n",
    "      (recommended for calibrated classifiers).\n",
    "      \n",
    "    weights : array-like, shape = [n_classifiers]\n",
    "      Optional, default: None\n",
    "      If a list of `int` or `float` values are\n",
    "      provided, the classifiers are weighted by\n",
    "      importance; Uses uniform weights if `weights=None`.\n",
    "    \"\"\"\n",
    "    def __init__(self, classifiers, vote='classlabel', weights=None):\n",
    "        self.classifiers = classifiers\n",
    "        self.named_classifiers = {key: value for key,value in _name_estimators(classifiers)}\n",
    "        self.vote = vote\n",
    "        self.weights = weights\n",
    "        \n",
    "    def fit(self, X, y):\n",
    "        \"\"\"\n",
    "        Fit classifiers:\n",
    "        \n",
    "        Parameters\n",
    "        ----------\n",
    "        X : {array-like, sparse matrix},\n",
    "            shape = [n_samples, n_features]\n",
    "            Matrix of training samples.\n",
    "        y : array-like, shape = [n_samples]\n",
    "            Vector of target class labels.\n",
    "            \n",
    "        Returns\n",
    "        -------\n",
    "        self : object\n",
    "        \"\"\"\n",
    "        # Use LabelEncoder to ensure class labels start\n",
    "        # with 0, which is important for np.argmax\n",
    "        # call in self.predict\n",
    "        self.lablenc_ = LabelEncoder()\n",
    "        self.lablenc_.fit(y)\n",
    "        self.classes_ = self.lablenc_.classes_\n",
    "        self.classifiers_ = []\n",
    "        for clf in self.classifiers:\n",
    "            fitted_clf = clone(clf).fit(X, self.lablenc_.transform(y))\n",
    "            self.classifiers_.append(fitted_clf)\n",
    "        return self\n",
    "    \n",
    "    def predict(self, X):\n",
    "        \"\"\" Predict class labels for X.\n",
    "        \n",
    "        Parameters\n",
    "        ----------\n",
    "        X : {array-like, sparse matrix},\n",
    "            Shape = [n_samples, n_features]\n",
    "            Matrix of training samples.\n",
    "            \n",
    "        Returns\n",
    "        ----------\n",
    "        maj_vote : array-like, shape = [n_samples]\n",
    "            Predicted class labels.\n",
    "        \"\"\"\n",
    "        if self.vote == 'probability':\n",
    "            maj_vote = np.argmax(self.predict_proba(X), axis=1)\n",
    "        else: #'classlabel' vote\n",
    "            # Collect results from clf.predict calls\n",
    "            predictions = np.asarray([clf.predict(X) for clf in self.classifiers_]).T\n",
    "            \n",
    "            maj_vote = np.apply_along_axis(lambda x: np.argmax(np.bincount(x, weights=self.weights)),\\\n",
    "                                           axis=1, arr=predictions)\n",
    "        maj_vote = self.lablenc_.inverse_transform(maj_vote)\n",
    "        return maj_vote\n",
    "        \n",
    "    def predict_proba(self,X): # use to compute ROC AUC\n",
    "        \"\"\" Predict class probabilities for X.\n",
    "        \n",
    "        Parameters\n",
    "        ----------\n",
    "        X : {array-like, sparse matrix},\n",
    "            shape = [n_samples, n_features]\n",
    "            Training vectors, where n_samples is\n",
    "            the number of samples and\n",
    "            n_features is the number of features.\n",
    "            \n",
    "        Returns\n",
    "        ----------\n",
    "        avg_proba : array-like,\n",
    "            shape = [n_samples, n_classes]\n",
    "            Weighted average probability for\n",
    "            each class per sample.\n",
    "        \"\"\"\n",
    "        probas = np.asarray([clf.predict_proba(X) for clf in self.classifiers_])\n",
    "        avg_proba = np.average(probas, axis=0, weights=self.weights)\n",
    "        return avg_proba\n",
    "    \n",
    "    def get_params(self, deep=True):\n",
    "        \"\"\" Get classifier parameter names for GridSearch\"\"\"\n",
    "        if not deep:\n",
    "            return super(MajorityVoteClassifier,self).get_params(deep=False)\n",
    "        else:\n",
    "            out = self.named_classifiers.copy()\n",
    "            for name, step in six.iteritems(self.named_classifiers):\n",
    "                for key, value in six.iteritems(step.get_params(deep=True)):\n",
    "                    out['%s__%s'%(name, key)] = value\n",
    "            return out\n",
    "        "
   ]
  },
  {
   "cell_type": "code",
   "execution_count": 89,
   "metadata": {},
   "outputs": [],
   "source": [
    "from sklearn import datasets\n",
    "from sklearn.cross_validation import train_test_split\n",
    "from sklearn.preprocessing import StandardScaler, LabelEncoder\n",
    "iris = datasets.load_iris()\n",
    "X,y = iris.data[50:,[1,2]],iris.target[50:]\n",
    "le = LabelEncoder()\n",
    "y = le.fit_transform(y)\n",
    "X_train,X_test,y_train,y_test = train_test_split(X,y,test_size=0.5, random_state=1)"
   ]
  },
  {
   "cell_type": "code",
   "execution_count": 102,
   "metadata": {},
   "outputs": [
    {
     "name": "stdout",
     "output_type": "stream",
     "text": [
      "10-fold cross validation:\n",
      "\n",
      "ROC AUC:0.92 (+/- 0.20) [Logistic Regression]\n",
      "ROC AUC:0.92 (+/- 0.15) [Decision Tree]\n",
      "ROC AUC:0.93 (+/- 0.10) [KNN]\n"
     ]
    }
   ],
   "source": [
    "# 训练三个不同的分类器， 逻辑回归，决策树和kNN 利用10-fold CV进行表现评估\n",
    "from sklearn.cross_validation import cross_val_score\n",
    "from sklearn.linear_model import LogisticRegression\n",
    "from sklearn.tree import DecisionTreeClassifier\n",
    "from sklearn.neighbors import KNeighborsClassifier\n",
    "from sklearn.pipeline import Pipeline\n",
    "import numpy as np\n",
    "clf1 = LogisticRegression(penalty='l2', C=0.001, random_state=0)\n",
    "clf2 = DecisionTreeClassifier(max_depth=1, criterion='entropy', random_state=0)\n",
    "clf3 = KNeighborsClassifier(n_neighbors=1, p=2, metric='minkowski')\n",
    "pipe1 = Pipeline([['sc',StandardScaler()],['clf',clf1]])\n",
    "# pipe2 = Pipeline([('sc',StandardScaler()),('clf',clf2)]) 不需要，因为基于树的方法不需要进行数据的归一化\n",
    "pipe3 = Pipeline([['sc',StandardScaler()],['clf',clf3]])\n",
    "clf_labels = ['Logistic Regression', 'Decision Tree', 'KNN']\n",
    "print('10-fold cross validation:\\n')\n",
    "for clf, label in zip([pipe1, clf2, pipe3], clf_labels):\n",
    "    scores = cross_val_score(estimator=clf, X=X_train, y=y_train,\n",
    "                             cv=10, scoring='roc_auc')\n",
    "    print(\"ROC AUC:%.2f (+/- %.2f) [%s]\" % (scores.mean(), scores.std(), label))"
   ]
  },
  {
   "cell_type": "code",
   "execution_count": 112,
   "metadata": {},
   "outputs": [
    {
     "name": "stdout",
     "output_type": "stream",
     "text": [
      "Accuracy: 0.92 (+/- 0.20) [Logistic Regression]\n",
      "Accuracy: 0.92 (+/- 0.15) [Decision Tree]\n",
      "Accuracy: 0.93 (+/- 0.10) [KNN]\n",
      "Accuracy: 0.97 (+/- 0.10) [Majority Voting]\n"
     ]
    }
   ],
   "source": [
    "mv_clf = MajorityVoteClassifier(classifiers=[pipe1, clf2, pipe3])\n",
    "clf_labels += ['Majority Voting']\n",
    "all_clf = [pipe1, clf2, pipe3, mv_clf]\n",
    "for clf, label in zip(all_clf, clf_labels):\n",
    "    scores = cross_val_score(estimator=clf, X=X_train, y=y_train, cv=10, scoring='roc_auc')\n",
    "    print(\"Accuracy: %0.2f (+/- %0.2f) [%s]\" % (scores.mean(), scores.std(), label))"
   ]
  },
  {
   "cell_type": "markdown",
   "metadata": {},
   "source": [
    "评估和调整集成分类器：  \n",
    "通过计算ROC曲线来查看MajorityVoteClassifier是不是对测试数据泛化能力很好。"
   ]
  },
  {
   "cell_type": "code",
   "execution_count": 120,
   "metadata": {},
   "outputs": [
    {
     "data": {
      "image/png": "[encoded data removed]",
      "text/plain": [
       "<matplotlib.figure.Figure at 0x7f5779a44390>"
      ]
     },
     "metadata": {},
     "output_type": "display_data"
    }
   ],
   "source": [
    "from sklearn.metrics import roc_curve\n",
    "from sklearn.metrics import auc\n",
    "colors = ['black', 'orange', 'blue', 'green']\n",
    "linestyles = [':', '--', '-.', '-']\n",
    "for clf,label,clr,ls in zip(all_clf, clf_labels, colors,linestyles):\n",
    "    # assuming the label of the positive class is 1\n",
    "    y_pred = clf.fit(X_train, y_train).predict_proba(X_test)[:,1]\n",
    "    # print(y_pred)\n",
    "    fpr, tpr, thresholds = roc_curve(y_true=y_test, y_score=y_pred)\n",
    "    roc_auc = auc(x=fpr, y=tpr)\n",
    "    plt.plot(fpr, tpr, color=clr, linestyle=ls, label='%s(auc=%.2f)'% (label, roc_auc))\n",
    "plt.legend(loc='lower right')\n",
    "plt.plot([0, 1], [0, 1],linestyle='--', color='gray', linewidth=2)\n",
    "plt.xlim([-0.1, 1.1])\n",
    "plt.ylim([-0.1, 1.1])\n",
    "plt.grid()\n",
    "plt.xlabel('False Positive Rate')\n",
    "plt.ylabel('True Positive Rate')\n",
    "plt.show()"
   ]
  },
  {
   "cell_type": "code",
   "execution_count": 133,
   "metadata": {},
   "outputs": [
    {
     "name": "stderr",
     "output_type": "stream",
     "text": [
      "/home/lily/tf3.6/lib/python3.6/site-packages/sklearn/preprocessing/label.py:151: DeprecationWarning: The truth value of an empty array is ambiguous. Returning False, but in future this will result in an error. Use `array.size > 0` to check that an array is not empty.\n",
      "  if diff:\n"
     ]
    },
    {
     "data": {
      "image/png": "[encoded data removed]",
      "text/plain": [
       "<matplotlib.figure.Figure at 0x7f57a0a7b080>"
      ]
     },
     "metadata": {},
     "output_type": "display_data"
    }
   ],
   "source": [
    "# 为了查看决策树的决策边界，现将training set做标准化处理\n",
    "sc = StandardScaler()\n",
    "X_train_std = sc.fit_transform(X_train)\n",
    "from itertools import product\n",
    "x_min = X_train_std[:,0].min() - 1\n",
    "x_max = X_train_std[:,0].max() + 1\n",
    "y_min = X_train_std[:,1].min() - 1\n",
    "y_max = X_train_std[:,1].max() + 1\n",
    "xx,yy = np.meshgrid(np.arange(x_min,x_max,0.1),np.arange(y_min,y_max,0.1))\n",
    "f,axarr = plt.subplots(nrows=2, ncols=2, sharex='col',sharey='row',figsize=(7,5))\n",
    "for idx, clf, tt in zip(product([0,1],[0,1]),all_clf, clf_labels):\n",
    "    clf.fit(X_train_std, y_train)\n",
    "    Z = clf.predict(np.c_[xx.ravel(), yy.ravel()])\n",
    "    Z = Z.reshape(xx.shape)\n",
    "    axarr[idx[0],idx[1]].contourf(xx,yy,Z,alpha=0.3)\n",
    "    axarr[idx[0],idx[1]].scatter(X_train_std[y_train==0,0],X_train_std[y_train==0,1],c='blue',marker='^',s=50)\n",
    "    axarr[idx[0],idx[1]].scatter(X_train_std[y_train==1,0],X_train_std[y_train==1,1],c='red',marker='o',s=50)\n",
    "    axarr[idx[0],idx[1]].set_title(tt)\n",
    "plt.text(-3.5, -4.5, s='Sepal width [standardized]', ha='center', va='center', fontsize=12)\n",
    "plt.text(-10.5, 4.5, s='Petal length [standardized]', ha='center', va='center', fontsize=12, rotation=90)\n",
    "plt.show()"
   ]
  },
  {
   "cell_type": "code",
   "execution_count": 127,
   "metadata": {},
   "outputs": [
    {
     "name": "stdout",
     "output_type": "stream",
     "text": [
      "(0, 0)\n",
      "(0, 1)\n",
      "(1, 0)\n",
      "(1, 1)\n"
     ]
    }
   ],
   "source": [
    "for idx in product([0,1],[0,1]):\n",
    "    print(idx)"
   ]
  },
  {
   "cell_type": "code",
   "execution_count": 135,
   "metadata": {},
   "outputs": [
    {
     "data": {
      "text/plain": [
       "{'decisiontreeclassifier': DecisionTreeClassifier(class_weight=None, criterion='entropy', max_depth=1,\n",
       "             max_features=None, max_leaf_nodes=None,\n",
       "             min_impurity_decrease=0.0, min_impurity_split=None,\n",
       "             min_samples_leaf=1, min_samples_split=2,\n",
       "             min_weight_fraction_leaf=0.0, presort=False, random_state=0,\n",
       "             splitter='best'),\n",
       " 'decisiontreeclassifier__class_weight': None,\n",
       " 'decisiontreeclassifier__criterion': 'entropy',\n",
       " 'decisiontreeclassifier__max_depth': 1,\n",
       " 'decisiontreeclassifier__max_features': None,\n",
       " 'decisiontreeclassifier__max_leaf_nodes': None,\n",
       " 'decisiontreeclassifier__min_impurity_decrease': 0.0,\n",
       " 'decisiontreeclassifier__min_impurity_split': None,\n",
       " 'decisiontreeclassifier__min_samples_leaf': 1,\n",
       " 'decisiontreeclassifier__min_samples_split': 2,\n",
       " 'decisiontreeclassifier__min_weight_fraction_leaf': 0.0,\n",
       " 'decisiontreeclassifier__presort': False,\n",
       " 'decisiontreeclassifier__random_state': 0,\n",
       " 'decisiontreeclassifier__splitter': 'best',\n",
       " 'pipeline-1': Pipeline(memory=None,\n",
       "      steps=[('sc', StandardScaler(copy=True, with_mean=True, with_std=True)), ['clf', LogisticRegression(C=0.001, class_weight=None, dual=False, fit_intercept=True,\n",
       "           intercept_scaling=1, max_iter=100, multi_class='ovr', n_jobs=1,\n",
       "           penalty='l2', random_state=0, solver='liblinear', tol=0.0001,\n",
       "           verbose=0, warm_start=False)]]),\n",
       " 'pipeline-1__clf': LogisticRegression(C=0.001, class_weight=None, dual=False, fit_intercept=True,\n",
       "           intercept_scaling=1, max_iter=100, multi_class='ovr', n_jobs=1,\n",
       "           penalty='l2', random_state=0, solver='liblinear', tol=0.0001,\n",
       "           verbose=0, warm_start=False),\n",
       " 'pipeline-1__clf__C': 0.001,\n",
       " 'pipeline-1__clf__class_weight': None,\n",
       " 'pipeline-1__clf__dual': False,\n",
       " 'pipeline-1__clf__fit_intercept': True,\n",
       " 'pipeline-1__clf__intercept_scaling': 1,\n",
       " 'pipeline-1__clf__max_iter': 100,\n",
       " 'pipeline-1__clf__multi_class': 'ovr',\n",
       " 'pipeline-1__clf__n_jobs': 1,\n",
       " 'pipeline-1__clf__penalty': 'l2',\n",
       " 'pipeline-1__clf__random_state': 0,\n",
       " 'pipeline-1__clf__solver': 'liblinear',\n",
       " 'pipeline-1__clf__tol': 0.0001,\n",
       " 'pipeline-1__clf__verbose': 0,\n",
       " 'pipeline-1__clf__warm_start': False,\n",
       " 'pipeline-1__memory': None,\n",
       " 'pipeline-1__sc': StandardScaler(copy=True, with_mean=True, with_std=True),\n",
       " 'pipeline-1__sc__copy': True,\n",
       " 'pipeline-1__sc__with_mean': True,\n",
       " 'pipeline-1__sc__with_std': True,\n",
       " 'pipeline-1__steps': [('sc',\n",
       "   StandardScaler(copy=True, with_mean=True, with_std=True)),\n",
       "  ['clf',\n",
       "   LogisticRegression(C=0.001, class_weight=None, dual=False, fit_intercept=True,\n",
       "             intercept_scaling=1, max_iter=100, multi_class='ovr', n_jobs=1,\n",
       "             penalty='l2', random_state=0, solver='liblinear', tol=0.0001,\n",
       "             verbose=0, warm_start=False)]],\n",
       " 'pipeline-2': Pipeline(memory=None,\n",
       "      steps=[('sc', StandardScaler(copy=True, with_mean=True, with_std=True)), ['clf', KNeighborsClassifier(algorithm='auto', leaf_size=30, metric='minkowski',\n",
       "            metric_params=None, n_jobs=1, n_neighbors=1, p=2,\n",
       "            weights='uniform')]]),\n",
       " 'pipeline-2__clf': KNeighborsClassifier(algorithm='auto', leaf_size=30, metric='minkowski',\n",
       "            metric_params=None, n_jobs=1, n_neighbors=1, p=2,\n",
       "            weights='uniform'),\n",
       " 'pipeline-2__clf__algorithm': 'auto',\n",
       " 'pipeline-2__clf__leaf_size': 30,\n",
       " 'pipeline-2__clf__metric': 'minkowski',\n",
       " 'pipeline-2__clf__metric_params': None,\n",
       " 'pipeline-2__clf__n_jobs': 1,\n",
       " 'pipeline-2__clf__n_neighbors': 1,\n",
       " 'pipeline-2__clf__p': 2,\n",
       " 'pipeline-2__clf__weights': 'uniform',\n",
       " 'pipeline-2__memory': None,\n",
       " 'pipeline-2__sc': StandardScaler(copy=True, with_mean=True, with_std=True),\n",
       " 'pipeline-2__sc__copy': True,\n",
       " 'pipeline-2__sc__with_mean': True,\n",
       " 'pipeline-2__sc__with_std': True,\n",
       " 'pipeline-2__steps': [('sc',\n",
       "   StandardScaler(copy=True, with_mean=True, with_std=True)),\n",
       "  ['clf',\n",
       "   KNeighborsClassifier(algorithm='auto', leaf_size=30, metric='minkowski',\n",
       "              metric_params=None, n_jobs=1, n_neighbors=1, p=2,\n",
       "              weights='uniform')]]}"
      ]
     },
     "execution_count": 135,
     "metadata": {},
     "output_type": "execute_result"
    }
   ],
   "source": [
    "# 在调整单独的分类器的参数之前，首先查看参数\n",
    "mv_clf.get_params()"
   ]
  },
  {
   "cell_type": "code",
   "execution_count": 137,
   "metadata": {},
   "outputs": [
    {
     "data": {
      "text/plain": [
       "GridSearchCV(cv=10, error_score='raise',\n",
       "       estimator=MajorityVoteClassifier(classifiers=[Pipeline(memory=None,\n",
       "     steps=[('sc', StandardScaler(copy=True, with_mean=True, with_std=True)), ['clf', LogisticRegression(C=0.001, class_weight=None, dual=False, fit_intercept=True,\n",
       "          intercept_scaling=1, max_iter=100, multi_class='ovr', n_jobs=1,\n",
       "          penalty='l2', ra...ski',\n",
       "           metric_params=None, n_jobs=1, n_neighbors=1, p=2,\n",
       "           weights='uniform')]])],\n",
       "            vote='classlabel', weights=None),\n",
       "       fit_params={}, iid=True, n_jobs=1,\n",
       "       param_grid={'decisiontreeclassifier__max_depth': [1, 2], 'pipeline-1__clf__C': [0.001, 0.1, 100.0]},\n",
       "       pre_dispatch='2*n_jobs', refit=True, scoring='roc_auc', verbose=0)"
      ]
     },
     "execution_count": 137,
     "metadata": {},
     "output_type": "execute_result"
    }
   ],
   "source": [
    "from sklearn.grid_search import GridSearchCV\n",
    "params = {'decisiontreeclassifier__max_depth': [1,2],\\\n",
    "          'pipeline-1__clf__C': [0.001,0.1,100.0]}\n",
    "grid = GridSearchCV(estimator=mv_clf, param_grid=params, cv=10, scoring='roc_auc')\n",
    "grid.fit(X_train,y_train)"
   ]
  },
  {
   "cell_type": "code",
   "execution_count": 141,
   "metadata": {},
   "outputs": [
    {
     "name": "stdout",
     "output_type": "stream",
     "text": [
      "0.967+/-0.05 {'decisiontreeclassifier__max_depth': 1, 'pipeline-1__clf__C': 0.001}\n",
      "0.967+/-0.05 {'decisiontreeclassifier__max_depth': 1, 'pipeline-1__clf__C': 0.1}\n",
      "1.000+/-0.00 {'decisiontreeclassifier__max_depth': 1, 'pipeline-1__clf__C': 100.0}\n",
      "0.967+/-0.05 {'decisiontreeclassifier__max_depth': 2, 'pipeline-1__clf__C': 0.001}\n",
      "0.967+/-0.05 {'decisiontreeclassifier__max_depth': 2, 'pipeline-1__clf__C': 0.1}\n",
      "1.000+/-0.00 {'decisiontreeclassifier__max_depth': 2, 'pipeline-1__clf__C': 100.0}\n"
     ]
    }
   ],
   "source": [
    "for params, mean_score, scores in grid.grid_scores_:\n",
    "    print(\"%0.3f+/-%.2f %r\"%(mean_score, scores.std()/2,params))"
   ]
  },
  {
   "cell_type": "markdown",
   "metadata": {},
   "source": [
    "#### bagging "
   ]
  },
  {
   "cell_type": "code",
   "execution_count": 143,
   "metadata": {},
   "outputs": [],
   "source": [
    "import pandas as pd\n",
    "df_wine = pd.read_csv('https://archive.ics.uci.edu/ml/machine-learning-databases/wine/wine.data', header=None)\n",
    "df_wine.columns = ['Class label', 'Alcohol','Malic acid', 'Ash','Alcalinity of ash',\\\n",
    "                   'Magnesium', 'Total phenols','Flavanoids', 'Nonflavanoid phenols',\\\n",
    "                   'Proanthocyanins','Color intensity', 'Hue','OD280/OD315 of diluted wines',\\\n",
    "                   'Proline']\n",
    "df_wine = df_wine[df_wine['Class label'] != 1]\n",
    "y = df_wine['Class label'].values\n",
    "X = df_wine[['Alcohol', 'Hue']].values\n",
    "# 将class labels用二进制格式表示， 将数据集拆分为trainset 和test set\n",
    "from sklearn.preprocessing import LabelEncoder\n",
    "from sklearn.cross_validation import train_test_split\n",
    "le = LabelEncoder()\n",
    "y = le.fit_transform(y)\n",
    "X_train,X_test,y_train,y_test = train_test_split(X,y, test_size=0.40, random_state=1)"
   ]
  },
  {
   "cell_type": "code",
   "execution_count": 146,
   "metadata": {},
   "outputs": [],
   "source": [
    "from sklearn.ensemble import BaggingClassifier\n",
    "tree = DecisionTreeClassifier(criterion='entropy',max_depth=None)\n",
    "bag = BaggingClassifier(base_estimator=tree, n_estimators=500, max_samples=1.0, max_features=1.0, bootstrap=True,\\\n",
    "                      bootstrap_features=False, n_jobs=1, random_state=1)"
   ]
  },
  {
   "cell_type": "code",
   "execution_count": 148,
   "metadata": {},
   "outputs": [
    {
     "name": "stdout",
     "output_type": "stream",
     "text": [
      "Decision tree train/test accuracies 1.000/0.854\n"
     ]
    }
   ],
   "source": [
    "from sklearn.metrics import accuracy_score\n",
    "tree = tree.fit(X_train,y_train)\n",
    "y_train_pred = tree.predict(X_train)\n",
    "y_test_pred = tree.predict(X_test)\n",
    "tree_train = accuracy_score(y_train, y_train_pred)\n",
    "tree_test = accuracy_score(y_test, y_test_pred)\n",
    "print('Decision tree train/test accuracies %.3f/%.3f'% (tree_train, tree_test))"
   ]
  },
  {
   "cell_type": "code",
   "execution_count": 149,
   "metadata": {},
   "outputs": [
    {
     "name": "stdout",
     "output_type": "stream",
     "text": [
      "Bagging train/test accuracies 1.000/0.896\n"
     ]
    }
   ],
   "source": [
    "bag = bag.fit(X_train,y_train)\n",
    "y_train_pred = bag.predict(X_train)\n",
    "y_test_pred = bag.predict(X_test)\n",
    "bag_train = accuracy_score(y_train,y_train_pred)\n",
    "bag_test = accuracy_score(y_test,y_test_pred)\n",
    "print('Bagging train/test accuracies %.3f/%.3f' % (bag_train, bag_test))"
   ]
  },
  {
   "cell_type": "code",
   "execution_count": 156,
   "metadata": {},
   "outputs": [
    {
     "data": {
      "image/png": "[encoded data removed]",
      "text/plain": [
       "<matplotlib.figure.Figure at 0x7f57a0a27630>"
      ]
     },
     "metadata": {},
     "output_type": "display_data"
    }
   ],
   "source": [
    "x_min = X_train[:,0].min() - 1\n",
    "x_max = X_train[:,0].max() + 1\n",
    "y_min = X_train[:,1].min() - 1\n",
    "y_max = X_train[:,1].max() + 1\n",
    "xx,yy = np.meshgrid(np.arange(x_min,x_max,0.1),np.arange(y_min,y_max,0.1))\n",
    "f,axarr = plt.subplots(nrows=1, ncols=2, sharex='col',sharey='row',figsize=(8,3))\n",
    "for idx, clf, tt in zip([0,1], [tree,bag],['Decision Tree','Bagging']):\n",
    "    clf.fit(X_train,y_train)\n",
    "    Z = clf.predict(np.c_[xx.ravel(),yy.ravel()])\n",
    "    #print(Z.shape) #(3534,)\n",
    "   # print(xx.ravel().shape) #(3534,)\n",
    "    #print(np.c_[xx.ravel(),yy.ravel()].shape) #(3534, 2)\n",
    "    Z = Z.reshape(xx.shape)\n",
    "    axarr[idx].contourf(xx,yy,Z,alpha=0.3)\n",
    "    axarr[idx].scatter(X_train[y_train==0,0],X_train[y_train==0,1],c='blue',marker='^')\n",
    "    axarr[idx].scatter(X_train[y_train==1,0],X_train[y_train==1,1],c='red',marker='o')\n",
    "    axarr[idx].set_title(tt)\n",
    "axarr[0].set_ylabel('Alcohol', fontsize=12)\n",
    "plt.text(10.2, -1.2, s='Hue',ha='center', va='center', fontsize=12)\n",
    "plt.show()\n"
   ]
  },
  {
   "cell_type": "markdown",
   "metadata": {},
   "source": [
    "由于集成算法类似与于bagging无法减小模型的偏差，所以在分类器的集成算法当中，我们倾向于选用低偏差的分类器，类似于非剪枝树。\n",
    "\n",
    "### 下面讨论通过自适应的增强算法来提升弱学习器性能：Adaboost(Adaptive boosting)\n",
    "不同于bagging集成算法，boosting在减少方差的同时也减少了模型的偏差。"
   ]
  },
  {
   "cell_type": "code",
   "execution_count": 160,
   "metadata": {},
   "outputs": [
    {
     "name": "stdout",
     "output_type": "stream",
     "text": [
      "Decision tree train/test accuracies 0.845/0.854\n",
      "AdaBoost train/test accuracies 1.000/0.875\n"
     ]
    }
   ],
   "source": [
    "from sklearn.ensemble import AdaBoostClassifier\n",
    "tree = DecisionTreeClassifier(criterion='entropy',max_depth=1)\n",
    "ada = AdaBoostClassifier(base_estimator=tree, n_estimators=500, learning_rate=0.1, random_state=0)\n",
    "tree = tree.fit(X_train, y_train)\n",
    "y_train_pred = tree.predict(X_train)\n",
    "y_test_pred = tree.predict(X_test)\n",
    "tree_train = accuracy_score(y_train,y_train_pred)\n",
    "tree_test = accuracy_score(y_test,y_test_pred)\n",
    "print('Decision tree train/test accuracies %.3f/%.3f'% (tree_train, tree_test))\n",
    "\n",
    "ada = ada.fit(X_train,y_train)\n",
    "y_train_pred = ada.predict(X_train)\n",
    "y_test_pred = ada.predict(X_test)\n",
    "ada_train = accuracy_score(y_train,y_train_pred)\n",
    "ada_test = accuracy_score(y_test,y_test_pred)\n",
    "print('AdaBoost train/test accuracies %.3f/%.3f'% (ada_train, ada_test)) # 在这里降低了偏差，但是引入了一点方差"
   ]
  },
  {
   "cell_type": "code",
   "execution_count": 161,
   "metadata": {},
   "outputs": [
    {
     "data": {
      "image/png": "[encoded data removed]",
      "text/plain": [
       "<matplotlib.figure.Figure at 0x7f57a0a784e0>"
      ]
     },
     "metadata": {},
     "output_type": "display_data"
    }
   ],
   "source": [
    "x_min = X_train[:,0].min() - 1\n",
    "x_max = X_train[:,0].max() + 1\n",
    "y_min = X_train[:,1].min() - 1\n",
    "y_max = X_train[:,1].max() + 1\n",
    "xx,yy = np.meshgrid(np.arange(x_min,x_max,0.1),np.arange(y_min,y_max,0.1))\n",
    "f,axarr = plt.subplots(nrows=1, ncols=2, sharex='col',sharey='row',figsize=(8,3))\n",
    "for idx, clf, tt in zip([0,1], [tree,ada],['Decision Tree','AdaBoost']):\n",
    "    clf.fit(X_train,y_train)\n",
    "    Z = clf.predict(np.c_[xx.ravel(),yy.ravel()])\n",
    "    #print(Z.shape) #(3534,)\n",
    "   # print(xx.ravel().shape) #(3534,)\n",
    "    #print(np.c_[xx.ravel(),yy.ravel()].shape) #(3534, 2)\n",
    "    Z = Z.reshape(xx.shape)\n",
    "    axarr[idx].contourf(xx,yy,Z,alpha=0.3)\n",
    "    axarr[idx].scatter(X_train[y_train==0,0],X_train[y_train==0,1],c='blue',marker='^')\n",
    "    axarr[idx].scatter(X_train[y_train==1,0],X_train[y_train==1,1],c='red',marker='o')\n",
    "    axarr[idx].set_title(tt)\n",
    "axarr[0].set_ylabel('Alcohol', fontsize=12)\n",
    "plt.text(10.2, -1.2, s='Hue',ha='center', va='center', fontsize=12)\n",
    "plt.show()"
   ]
  },
  {
   "cell_type": "code",
   "execution_count": null,
   "metadata": {},
   "outputs": [],
   "source": []
  }
 ],
 "metadata": {
  "kernelspec": {
   "display_name": "Python 3",
   "language": "python",
   "name": "python3"
  },
  "language_info": {
   "codemirror_mode": {
    "name": "ipython",
    "version": 3
   },
   "file_extension": ".py",
   "mimetype": "text/x-python",
   "name": "python",
   "nbconvert_exporter": "python",
   "pygments_lexer": "ipython3",
   "version": "3.6.4"
  }
 },
 "nbformat": 4,
 "nbformat_minor": 2
}
